{
  "nbformat": 4,
  "nbformat_minor": 0,
  "metadata": {
    "colab": {
      "provenance": [],
      "authorship_tag": "ABX9TyO6wdaBpEGy7JE+ay8YXbG0",
      "include_colab_link": true
    },
    "kernelspec": {
      "name": "python3",
      "display_name": "Python 3"
    },
    "language_info": {
      "name": "python"
    }
  },
  "cells": [
    {
      "cell_type": "markdown",
      "metadata": {
        "id": "view-in-github",
        "colab_type": "text"
      },
      "source": [
        "<a href=\"https://colab.research.google.com/github/hepam4/IntroduccionIA/blob/main/punto_1_open_ia.ipynb\" target=\"_parent\"><img src=\"https://colab.research.google.com/assets/colab-badge.svg\" alt=\"Open In Colab\"/></a>"
      ]
    },
    {
      "cell_type": "code",
      "source": [
        "print(\"Versión de openai:\", openai.__version__)"
      ],
      "metadata": {
        "colab": {
          "base_uri": "https://localhost:8080/"
        },
        "id": "Xiilv0bLazWL",
        "outputId": "ff807634-6d66-4bde-f5d5-140a7eaf750e"
      },
      "execution_count": 3,
      "outputs": [
        {
          "output_type": "stream",
          "name": "stdout",
          "text": [
            "Versión de openai: 0.27.8\n"
          ]
        }
      ]
    },
    {
      "cell_type": "code",
      "source": [
        "# Desinstalar cualquier versión anterior de openai e instalar la versión 0.27.8\n",
        "!pip uninstall openai -y\n",
        "!pip install openai==0.27.8\n",
        "!pip install PyPDF2\n",
        "\n",
        "# Montar Google Drive\n",
        "from google.colab import drive\n",
        "drive.mount('/content/drive')"
      ],
      "metadata": {
        "colab": {
          "base_uri": "https://localhost:8080/"
        },
        "id": "-TK5qlHVfru5",
        "outputId": "3bf947bb-a598-49ff-887a-038e9c27ef6f"
      },
      "execution_count": 1,
      "outputs": [
        {
          "output_type": "stream",
          "name": "stdout",
          "text": [
            "Found existing installation: openai 0.27.8\n",
            "Uninstalling openai-0.27.8:\n",
            "  Successfully uninstalled openai-0.27.8\n",
            "Collecting openai==0.27.8\n",
            "  Using cached openai-0.27.8-py3-none-any.whl.metadata (13 kB)\n",
            "Requirement already satisfied: requests>=2.20 in /usr/local/lib/python3.11/dist-packages (from openai==0.27.8) (2.32.3)\n",
            "Requirement already satisfied: tqdm in /usr/local/lib/python3.11/dist-packages (from openai==0.27.8) (4.67.1)\n",
            "Requirement already satisfied: aiohttp in /usr/local/lib/python3.11/dist-packages (from openai==0.27.8) (3.11.14)\n",
            "Requirement already satisfied: charset-normalizer<4,>=2 in /usr/local/lib/python3.11/dist-packages (from requests>=2.20->openai==0.27.8) (3.4.1)\n",
            "Requirement already satisfied: idna<4,>=2.5 in /usr/local/lib/python3.11/dist-packages (from requests>=2.20->openai==0.27.8) (3.10)\n",
            "Requirement already satisfied: urllib3<3,>=1.21.1 in /usr/local/lib/python3.11/dist-packages (from requests>=2.20->openai==0.27.8) (2.3.0)\n",
            "Requirement already satisfied: certifi>=2017.4.17 in /usr/local/lib/python3.11/dist-packages (from requests>=2.20->openai==0.27.8) (2025.1.31)\n",
            "Requirement already satisfied: aiohappyeyeballs>=2.3.0 in /usr/local/lib/python3.11/dist-packages (from aiohttp->openai==0.27.8) (2.6.1)\n",
            "Requirement already satisfied: aiosignal>=1.1.2 in /usr/local/lib/python3.11/dist-packages (from aiohttp->openai==0.27.8) (1.3.2)\n",
            "Requirement already satisfied: attrs>=17.3.0 in /usr/local/lib/python3.11/dist-packages (from aiohttp->openai==0.27.8) (25.3.0)\n",
            "Requirement already satisfied: frozenlist>=1.1.1 in /usr/local/lib/python3.11/dist-packages (from aiohttp->openai==0.27.8) (1.5.0)\n",
            "Requirement already satisfied: multidict<7.0,>=4.5 in /usr/local/lib/python3.11/dist-packages (from aiohttp->openai==0.27.8) (6.2.0)\n",
            "Requirement already satisfied: propcache>=0.2.0 in /usr/local/lib/python3.11/dist-packages (from aiohttp->openai==0.27.8) (0.3.0)\n",
            "Requirement already satisfied: yarl<2.0,>=1.17.0 in /usr/local/lib/python3.11/dist-packages (from aiohttp->openai==0.27.8) (1.18.3)\n",
            "Using cached openai-0.27.8-py3-none-any.whl (73 kB)\n",
            "Installing collected packages: openai\n",
            "Successfully installed openai-0.27.8\n",
            "Requirement already satisfied: PyPDF2 in /usr/local/lib/python3.11/dist-packages (3.0.1)\n",
            "Drive already mounted at /content/drive; to attempt to forcibly remount, call drive.mount(\"/content/drive\", force_remount=True).\n"
          ]
        }
      ]
    },
    {
      "cell_type": "code",
      "source": [
        "import os\n",
        "import openai\n",
        "import pandas as pd\n",
        "from PyPDF2 import PdfReader"
      ],
      "metadata": {
        "id": "30CYybZrfyEa"
      },
      "execution_count": 2,
      "outputs": []
    },
    {
      "cell_type": "markdown",
      "source": [
        "Se utiliza otra metodologia para la API de Open AI, debido a que algunos de los componentes beta que se estaban utilizando me arrojaban error.\n",
        "Si bien el codigo proporcionado en clase utiliza almacenamiento vectorial y su estructura es mas robusta, modular y orientada a objetos,  se busco otra alternativa para pdarle solucion al requerimiento y que a la vez fuera sencilla para lo que se requiere implementar y comprender con el estudio."
      ],
      "metadata": {
        "id": "ImKTHycyE8YC"
      }
    },
    {
      "cell_type": "code",
      "source": [
        "# Ruta al archivo con la API key en Drive proporcionada en clase\n",
        "api_key_path = \"/content/drive/MyDrive/Universidad EIA - AI especializacion/Introduccion IA/openapikey.txt\"\n",
        "\n",
        "#Se busco otra alternativa de pasar la api key de manera segura, investigando se sugiere utilizar la variable de entorno por lo que\n",
        "# Si no existe la variable de entorno OPENAI_API_KEY, la leemos desde el archivo y la asignamos\n",
        "if \"OPENAI_API_KEY\" not in os.environ:\n",
        "    with open(api_key_path, \"r\") as f:\n",
        "        os.environ[\"OPENAI_API_KEY\"] = f.read().strip()\n",
        "\n",
        "# Asignar la API key a openai usando la variable de entorno\n",
        "openai.api_key = os.environ[\"OPENAI_API_KEY\"]\n",
        "\n",
        "# Directorio donde se encuentran los documentos de Judo\n",
        "docs_folder = \"/content/drive/MyDrive/Universidad EIA - AI especializacion/Introduccion IA/Judo_Docs\"\n",
        "files = os.listdir(docs_folder)\n",
        "\n",
        "# Función para leer el contenido de cada archivo según su extensión .txt, .csv o .pdf\n",
        "documentos = []\n",
        "for file in files:\n",
        "    file_path = os.path.join(docs_folder, file)\n",
        "    ext = os.path.splitext(file)[1].lower()\n",
        "    content = \"\"\n",
        "    if ext == \".txt\":\n",
        "        with open(file_path, \"r\", encoding=\"utf-8\") as f:\n",
        "            content = f.read()\n",
        "    elif ext == \".csv\":\n",
        "        df = pd.read_csv(file_path)\n",
        "        content = df.to_string(index=False)\n",
        "    elif ext == \".pdf\":\n",
        "        reader = PdfReader(file_path)\n",
        "        for page in reader.pages:\n",
        "            text = page.extract_text()\n",
        "            if text:\n",
        "                content += text + \"\\n\"\n",
        "    else:\n",
        "        print(f\"Formato no soportado: {file}\")\n",
        "        continue\n",
        "    documentos.append({\"titulo\": file, \"contenido\": content})\n",
        "\n",
        "# Combinar todos los documentos en un unico contexto para el prompt\n",
        "contexto = \"\\n\\n\".join([f\"{doc['titulo']}:\\n{doc['contenido']}\" for doc in documentos]) #aplicamos list comprehension\n",
        "\n",
        "def obtener_respuesta(pregunta):\n",
        "    # Construir el prompt combinando el contexto y la pregunta del usuario\n",
        "    prompt = (\n",
        "        f\"Utilizando la siguiente información sobre Judo:\\n\\n{contexto}\\n\\n\"\n",
        "        f\"Responde de manera clara y concisa a la siguiente pregunta:\\n{pregunta}\"\n",
        "    )\n",
        "\n",
        "    # Llamada a la API de OpenAI usando el modelo \"gpt-4o-mini\" sugerido en clase, tambien se probo con \"gpt-4\"\n",
        "    respuesta = openai.ChatCompletion.create(\n",
        "        model=\"gpt-4o-mini\",\n",
        "        messages=[\n",
        "            {\"role\": \"system\", \"content\": \"\"\"Eres experto en análisis de judo.\n",
        "A partir de documentos sobre judo de diferentes temas, debes ser capaz de extraer información de ellos.\n",
        "Da toda la información sólo de los documentos que tienes.\n",
        "Si usas tablas, utiliza formato markdown y responde siempre en el idioma que se te pregunte.\"\"\"},\n",
        "            {\"role\": \"user\", \"content\": prompt}\n",
        "        ],\n",
        "        temperature=0.7, #controlar su creatividad\n",
        "        max_tokens=200   #controlar length respuestas\n",
        "    )\n",
        "\n",
        "    return respuesta.choices[0].message.content.strip()\n",
        "\n",
        "# Interfaz simple en la consola para interactuar con el sistema experto como usuario\n",
        "print(\"Bienvenido al sistema experto en Judo 柔道. Escribe 'salir' para terminar.\")\n",
        "while True: #ciclo hasta que el usuario digite salir\n",
        "    pregunta = input(\"Ingresa tu pregunta sobre Judo: \\n\")\n",
        "    if pregunta.lower() == \"salir\":\n",
        "        break\n",
        "    respuesta = obtener_respuesta(pregunta)\n",
        "    print(\"\\n\\nRespuesta del asistente en Judo:\")\n",
        "    print(respuesta)\n",
        "    print(\"-\" * 50) #imprimimos unas lineas para diferenciar las preguntas y respuestas\n"
      ],
      "metadata": {
        "colab": {
          "base_uri": "https://localhost:8080/"
        },
        "id": "zBCLXJcT8ry2",
        "outputId": "f16f92db-058f-4fe4-9c78-cd397684a692"
      },
      "execution_count": 7,
      "outputs": [
        {
          "name": "stdout",
          "output_type": "stream",
          "text": [
            "Bienvenido al sistema experto en Judo 柔道. Escribe 'salir' para terminar.\n",
            "Ingresa tu pregunta sobre Judo: \n",
            "cual es el kanji de judo y que significa\n",
            "\n",
            "\n",
            "Respuesta del asistente en Judo:\n",
            "El kanji de judo es 柔道. Este se compone de dos caracteres:\n",
            "\n",
            "- 柔 (ju) que significa \"suave\" o \"flexible\".\n",
            "- 道 (dō) que significa \"camino\" o \"ruta\".\n",
            "\n",
            "Por lo tanto, \"judo\" se traduce literalmente como \"el camino de la suavidad\".\n",
            "--------------------------------------------------\n",
            "Ingresa tu pregunta sobre Judo: \n",
            "cual es el pais donde mas se practica el judo\n",
            "\n",
            "\n",
            "Respuesta del asistente en Judo:\n",
            "El país donde más se practica el judo es Japón, ya que es su país de origen y donde se fundó la disciplina. Sin embargo, a nivel olímpico, Japón es la nación más laureada en judo, pero otros países como Francia, Rusia, Corea del Sur, Brasil, Cuba, Georgia y Mongolia también han alcanzado niveles de élite en este deporte. En total, el judo se practica en más de 200 países.\n",
            "--------------------------------------------------\n",
            "Ingresa tu pregunta sobre Judo: \n",
            "puedo hacer judo en medellin\n",
            "\n",
            "\n",
            "Respuesta del asistente en Judo:\n",
            "Sí, puedes practicar judo en Medellín. La disciplina se introdujo en Colombia a mediados del siglo XX y ha crecido significativamente desde entonces, con varias escuelas y clubes de judo en ciudades como Medellín. Te recomendaría buscar un club local o una escuela de artes marciales que ofrezca clases de judo para unirte y comenzar a practicar.\n",
            "--------------------------------------------------\n",
            "Ingresa tu pregunta sobre Judo: \n",
            "salir\n"
          ]
        }
      ]
    }
  ]
}